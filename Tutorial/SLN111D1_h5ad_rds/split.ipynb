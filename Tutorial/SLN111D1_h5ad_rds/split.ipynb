{
 "cells": [
  {
   "cell_type": "code",
   "execution_count": 32,
   "id": "47b61220-2375-4b1f-b78f-a82cea598fbd",
   "metadata": {},
   "outputs": [],
   "source": [
    "import scanpy as sc\n",
    "import numpy as np\n",
    "import pandas as pd\n",
    "import anndata as ad\n",
    "import pandas as pd"
   ]
  },
  {
   "cell_type": "code",
   "execution_count": 2,
   "id": "e9cffdf6-75aa-4ff6-a681-e87c6b1ae634",
   "metadata": {},
   "outputs": [],
   "source": [
    "adata = sc.read_h5ad('spleen_lymph_111.h5ad')"
   ]
  },
  {
   "cell_type": "code",
   "execution_count": 24,
   "id": "f0e38bc6-9fde-4db8-8928-5a384c9e93ca",
   "metadata": {},
   "outputs": [
    {
     "data": {
      "text/plain": [
       "array([0, 1])"
      ]
     },
     "execution_count": 24,
     "metadata": {},
     "output_type": "execute_result"
    }
   ],
   "source": [
    "adata.obs['batch_indices'].unique()"
   ]
  },
  {
   "cell_type": "code",
   "execution_count": 26,
   "id": "78246225-e467-49f1-8463-ef2cec41c211",
   "metadata": {},
   "outputs": [],
   "source": [
    "adata_D1 = adata[adata.obs['batch_indices'] == 0]"
   ]
  },
  {
   "cell_type": "code",
   "execution_count": 27,
   "id": "cf8b809a-796b-4aa9-a074-a8138e8beaf4",
   "metadata": {},
   "outputs": [
    {
     "data": {
      "text/plain": [
       "View of AnnData object with n_obs × n_vars = 9264 × 13553\n",
       "    obs: 'n_protein_counts', 'n_proteins', 'seurat_hash_id', 'batch_indices', 'hash_id', 'n_genes', 'percent_mito', 'leiden_subclusters', 'cell_types'\n",
       "    var: 'gene_ids', 'feature_types', 'highly_variable', 'highly_variable_mean_variance', 'encode', 'hvg_encode'\n",
       "    uns: 'protein_names', 'version'\n",
       "    obsm: 'protein_expression'"
      ]
     },
     "execution_count": 27,
     "metadata": {},
     "output_type": "execute_result"
    }
   ],
   "source": [
    "adata_D1"
   ]
  },
  {
   "cell_type": "code",
   "execution_count": 39,
   "id": "cffc9357-b7c2-41e5-aa20-fa944c6e2a35",
   "metadata": {
    "tags": []
   },
   "outputs": [],
   "source": [
    "# Extract protein_expression data from adata\n",
    "protein_expression = adata_D1.obsm['protein_expression']\n",
    "\n",
    "# Create a new AnnData object\n",
    "adata_D1_pro = ad.AnnData(X=protein_expression, \n",
    "                       obs=pd.DataFrame(index=adata_D1.obs_names))\n",
    "\n",
    "# Set variable names (var_names) to adata.uns['protein_names']\n",
    "adata_D1_pro.var_names = adata_D1.uns['protein_names']\n",
    "adata_D1_pro.uns['protein_names'] = adata_D1.uns['protein_names']"
   ]
  },
  {
   "cell_type": "code",
   "execution_count": 40,
   "id": "4eb546ef-1aa2-4ead-9974-46fed0bdcafd",
   "metadata": {},
   "outputs": [
    {
     "data": {
      "text/plain": [
       "AnnData object with n_obs × n_vars = 9264 × 112\n",
       "    uns: 'protein_names'"
      ]
     },
     "execution_count": 40,
     "metadata": {},
     "output_type": "execute_result"
    }
   ],
   "source": [
    "adata_D1_pro"
   ]
  },
  {
   "cell_type": "code",
   "execution_count": 49,
   "id": "4c71b07a-7221-4ab5-bb88-71de38d514cd",
   "metadata": {},
   "outputs": [],
   "source": [
    "adata_D1.write_h5ad('SLN_111_D1_RNA.h5ad')\n",
    "adata_D1_pro.write_h5ad('SLN_111_D1_ADT.h5ad')"
   ]
  }
 ],
 "metadata": {
  "kernelspec": {
   "display_name": "Python 3 (ipykernel)",
   "language": "python",
   "name": "python3"
  },
  "language_info": {
   "codemirror_mode": {
    "name": "ipython",
    "version": 3
   },
   "file_extension": ".py",
   "mimetype": "text/x-python",
   "name": "python",
   "nbconvert_exporter": "python",
   "pygments_lexer": "ipython3",
   "version": "3.8.14"
  }
 },
 "nbformat": 4,
 "nbformat_minor": 5
}
