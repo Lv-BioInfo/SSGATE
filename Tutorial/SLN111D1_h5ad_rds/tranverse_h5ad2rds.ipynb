{
 "cells": [
  {
   "cell_type": "code",
   "execution_count": 1,
   "id": "422e1912-9c83-4015-91fc-561f0a71f1af",
   "metadata": {
    "execution": {
     "iopub.execute_input": "2024-06-04T03:00:35.660742Z",
     "iopub.status.busy": "2024-06-04T03:00:35.656939Z",
     "iopub.status.idle": "2024-06-04T03:00:38.963401Z",
     "shell.execute_reply": "2024-06-04T03:00:38.961895Z"
    },
    "tags": []
   },
   "outputs": [
    {
     "name": "stderr",
     "output_type": "stream",
     "text": [
      "Loading required package: reticulate\n",
      "\n",
      "Attaching SeuratObject\n",
      "\n"
     ]
    },
    {
     "data": {
      "text/plain": [
       "[1] ‘4.3.0’"
      ]
     },
     "metadata": {},
     "output_type": "display_data"
    }
   ],
   "source": [
    "library(sceasy)\n",
    "library(Seurat)\n",
    "library(ggplot2)\n",
    "library(cowplot)\n",
    "packageVersion(\"Seurat\")"
   ]
  },
  {
   "cell_type": "code",
   "execution_count": 1,
   "id": "658b5b4f-f09f-44ac-95b6-4ec13d7de5c1",
   "metadata": {
    "execution": {
     "iopub.execute_input": "2024-06-04T03:06:48.674444Z",
     "iopub.status.busy": "2024-06-04T03:06:48.670590Z",
     "iopub.status.idle": "2024-06-04T03:07:32.229029Z",
     "shell.execute_reply": "2024-06-04T03:07:32.227340Z"
    },
    "tags": []
   },
   "outputs": [
    {
     "name": "stderr",
     "output_type": "stream",
     "text": [
      "Loading required namespace: Seurat\n",
      "\n",
      "X -> counts\n",
      "\n"
     ]
    },
    {
     "data": {
      "text/plain": [
       "An object of class Seurat \n",
       "13553 features across 9264 samples within 1 assay \n",
       "Active assay: RNA (13553 features, 0 variable features)\n",
       " 1 dimensional reduction calculated: protein_expression"
      ]
     },
     "metadata": {},
     "output_type": "display_data"
    },
    {
     "name": "stderr",
     "output_type": "stream",
     "text": [
      "Warning message:\n",
      "“Feature names cannot have underscores ('_'), replacing with dashes ('-')”\n",
      "X -> counts\n",
      "\n"
     ]
    },
    {
     "data": {
      "text/plain": [
       "An object of class Seurat \n",
       "112 features across 9264 samples within 1 assay \n",
       "Active assay: RNA (112 features, 0 variable features)"
      ]
     },
     "metadata": {},
     "output_type": "display_data"
    }
   ],
   "source": [
    "# sceasy::convertFormat(\"BMNC_ADT_X.h5ad\", from=\"anndata\", to=\"seurat\", outFile=\"./result/Seurat/rds/BMNC_BMNC_ADT_X.rds\")\n",
    "# sceasy::convertFormat(\"BMNC_RNA_30_salt_noise.h5ad\", from=\"anndata\", to=\"seurat\", outFile=\"./result/Seurat/rds/BMNC_RNA_30_salt_noise.rds\")\n",
    "sceasy::convertFormat(\"SLN_111_D1_RNA.h5ad\", from=\"anndata\", to=\"seurat\", outFile=\"SLN_111_D1_RNA.rds\")\n",
    "sceasy::convertFormat(\"SLN_111_D1_ADT.h5ad\", from=\"anndata\", to=\"seurat\", outFile=\"SLN_111_D1_ADT.rds\")"
   ]
  }
 ],
 "metadata": {
  "kernelspec": {
   "display_name": "R",
   "language": "R",
   "name": "ir"
  },
  "language_info": {
   "codemirror_mode": "r",
   "file_extension": ".r",
   "mimetype": "text/x-r-source",
   "name": "R",
   "pygments_lexer": "r",
   "version": "4.2.2"
  }
 },
 "nbformat": 4,
 "nbformat_minor": 5
}
