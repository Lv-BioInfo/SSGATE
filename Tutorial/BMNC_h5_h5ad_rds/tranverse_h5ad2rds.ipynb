{
 "cells": [
  {
   "cell_type": "code",
   "execution_count": 1,
   "id": "422e1912-9c83-4015-91fc-561f0a71f1af",
   "metadata": {
    "execution": {
     "iopub.execute_input": "2024-06-04T03:00:35.660742Z",
     "iopub.status.busy": "2024-06-04T03:00:35.656939Z",
     "iopub.status.idle": "2024-06-04T03:00:38.963401Z",
     "shell.execute_reply": "2024-06-04T03:00:38.961895Z"
    },
    "tags": []
   },
   "outputs": [
    {
     "name": "stderr",
     "output_type": "stream",
     "text": [
      "Loading required package: reticulate\n",
      "\n",
      "Attaching SeuratObject\n",
      "\n"
     ]
    },
    {
     "data": {
      "text/plain": [
       "[1] ‘4.3.0’"
      ]
     },
     "metadata": {},
     "output_type": "display_data"
    }
   ],
   "source": [
    "library(sceasy)\n",
    "library(Seurat)\n",
    "library(ggplot2)\n",
    "library(cowplot)\n",
    "packageVersion(\"Seurat\")"
   ]
  },
  {
   "cell_type": "code",
   "execution_count": 2,
   "id": "658b5b4f-f09f-44ac-95b6-4ec13d7de5c1",
   "metadata": {
    "execution": {
     "iopub.execute_input": "2024-06-04T03:04:56.215707Z",
     "iopub.status.busy": "2024-06-04T03:04:56.181936Z",
     "iopub.status.idle": "2024-06-04T03:05:42.747826Z",
     "shell.execute_reply": "2024-06-04T03:05:42.746026Z"
    },
    "tags": []
   },
   "outputs": [
    {
     "name": "stderr",
     "output_type": "stream",
     "text": [
      "X -> counts\n",
      "\n"
     ]
    },
    {
     "data": {
      "text/plain": [
       "An object of class Seurat \n",
       "25 features across 30672 samples within 1 assay \n",
       "Active assay: RNA (25 features, 0 variable features)\n",
       " 1 dimensional reduction calculated: normalized_counts"
      ]
     },
     "metadata": {},
     "output_type": "display_data"
    },
    {
     "name": "stderr",
     "output_type": "stream",
     "text": [
      "X -> counts\n",
      "\n"
     ]
    },
    {
     "data": {
      "text/plain": [
       "An object of class Seurat \n",
       "17009 features across 30672 samples within 1 assay \n",
       "Active assay: RNA (17009 features, 0 variable features)"
      ]
     },
     "metadata": {},
     "output_type": "display_data"
    }
   ],
   "source": [
    "# sceasy::convertFormat(\"BMNC_ADT_X.h5ad\", from=\"anndata\", to=\"seurat\", outFile=\"./result/Seurat/rds/BMNC_BMNC_ADT_X.rds\")\n",
    "# sceasy::convertFormat(\"BMNC_RNA_30_salt_noise.h5ad\", from=\"anndata\", to=\"seurat\", outFile=\"./result/Seurat/rds/BMNC_RNA_30_salt_noise.rds\")\n",
    "sceasy::convertFormat(\"BMNC_ADT.h5ad\", from=\"anndata\", to=\"seurat\", outFile=\"BMNC_ADT.rds\")\n",
    "sceasy::convertFormat(\"BMNC_RNA.h5ad\", from=\"anndata\", to=\"seurat\", outFile=\"BMNC_RNA.rds\")"
   ]
  }
 ],
 "metadata": {
  "kernelspec": {
   "display_name": "R",
   "language": "R",
   "name": "ir"
  },
  "language_info": {
   "codemirror_mode": "r",
   "file_extension": ".r",
   "mimetype": "text/x-r-source",
   "name": "R",
   "pygments_lexer": "r",
   "version": "4.2.2"
  }
 },
 "nbformat": 4,
 "nbformat_minor": 5
}
