{
 "cells": [
  {
   "cell_type": "code",
   "id": "initial_id",
   "metadata": {
    "collapsed": true,
    "jupyter": {
     "is_executing": true
    }
   },
   "source": [
    "import sys\n",
    "import os\n",
    "import SSGATE as ssgate\n",
    "import scanpy as sc\n",
    "\n",
    "import torch\n",
    "import matplotlib.pyplot as plt\n",
    "import numpy as np\n",
    "import pandas as pd"
   ],
   "outputs": [],
   "execution_count": null
  },
  {
   "cell_type": "code",
   "execution_count": null,
   "outputs": [],
   "source": [
    "# This tutorial is used to illustrate the steps of multi-omics integration of the SCS_MT dataset.\n",
    "# Import transcriptome and proteome data in h5ad format\n",
    "adata_sp = sc.read_h5ad('SCS_MT_SP_bin50_filtered_raw.h5ad')\n",
    "adata_st = sc.read_h5ad('SCS_MT_ST_bin50_filtered_raw.h5ad')"
   ],
   "metadata": {
    "collapsed": false
   },
   "id": "8fc64094dd209e54"
  },
  {
   "cell_type": "code",
   "execution_count": null,
   "outputs": [],
   "source": [
    "# The above data is not filtered or standardized by default, \n",
    "# and is preprocessed using the preprocessing function of SSGATE.\n",
    "adata_st, adata_sp = ssgate.preprocess_cluster(adata_st, adata_sp, res_st = 0.5, res_sp = 0.2, show_fig = True, figsize = (6,3))"
   ],
   "metadata": {
    "collapsed": false
   },
   "id": "a87ad3e304f96a0b"
  },
  {
   "cell_type": "code",
   "execution_count": null,
   "outputs": [],
   "source": [
    "# Neighbor network construction, \n",
    "# network pruning, \n",
    "# and neighbor network statistics based on transcriptome data\n",
    "adata_st = ssgate.Cal_Nbrs_Net(adata_st, feat = \"X_pca\", k_cutoff = 15, model = \"KNN\")\n",
    "adata_st = ssgate.prune_net(adata_st)\n",
    "ssgate.Stats_Nbrs_Net(adata_st)"
   ],
   "metadata": {
    "collapsed": false
   },
   "id": "f89d0b644b450112"
  },
  {
   "cell_type": "code",
   "execution_count": null,
   "outputs": [],
   "source": [
    "# Proteomic data are processed similarly to transcriptomic data\n",
    "adata_sp = ssgate.Cal_Nbrs_Net(adata_sp, feat = \"X_pca\", k_cutoff = 15, model = \"KNN\")\n",
    "adata_sp = ssgate.prune_net(adata_sp)\n",
    "ssgate.Stats_Nbrs_Net(adata_sp)"
   ],
   "metadata": {
    "collapsed": false
   },
   "id": "e9e4e225b5ff98cf"
  },
  {
   "cell_type": "code",
   "execution_count": null,
   "outputs": [],
   "source": [
    "# After the nearest neighbor network is built, it is trained based on the above data, \n",
    "# and the integrated results obtained from the training are retained in the .obsm file of h5ad.\n",
    "adata_st, adata_sp = ssgate.train(adata_st, adata_sp, \n",
    "                                    hidden_dims1 = 128, \n",
    "                                    hidden_dims2 = 128, \n",
    "                                    out_dims = 30, \n",
    "                                    cluster_update_epoch = 50, \n",
    "                                    epochs_init = 50, \n",
    "                                    n_epochs=200, \n",
    "                                    save_reconstrction=False, \n",
    "                                    sigma = 0.5, \n",
    "                                    device = \"cuda:0\", \n",
    "                                    feat1 = \"PCA\",\n",
    "                                    key_added = 'ssgate_embed')"
   ],
   "metadata": {
    "collapsed": false
   },
   "id": "55e01eb9f0430c68"
  },
  {
   "cell_type": "code",
   "execution_count": null,
   "outputs": [],
   "source": [
    "# Calculate neighbors and construct UMAP graph based on integrated low-dimensional embedding\n",
    "sc.pp.neighbors(adata_st, use_rep=\"ssgate_embed\",key_added='SSGATE_neighbor')\n",
    "sc.tl.umap(adata_st,neighbors_key='SSGATE_neighbor')"
   ],
   "metadata": {
    "collapsed": false
   },
   "id": "b94c2e7e3d69078b"
  },
  {
   "metadata": {},
   "cell_type": "code",
   "outputs": [],
   "execution_count": null,
   "source": [
    "## Save the data for Monocle3 pseudo-timing analysis as a csv file in advance\n",
    "adata_st.to_df().to_csv('Monocle3_folder/expression_matrix_pca.csv')\n",
    "adata_st.obs.to_csv('Monocle3_folder/metadata_pca.csv')\n",
    "adata_st.var.to_csv('Monocle3_folder/gene_metadata_pca.csv')\n",
    "pd.DataFrame(adata_st.obsm['X_umap']).to_csv('Monocle3_folder/umap_pca.csv')\n",
    "pd.DataFrame(adata_st.obsm['ssgate_embed']).to_csv('Monocle3_folder/ssgate_embed_pca.csv')"
   ],
   "id": "7c6ba5193897ef0c"
  },
  {
   "cell_type": "code",
   "execution_count": null,
   "outputs": [],
   "source": [
    "# Leiden cluster statistics and drawing UMAP and spatial graph\n",
    "sc.tl.leiden(adata_st, resolution = 0.15, key_added = \"ssgate_cluster\")\n",
    "\n",
    "sc.pl.umap(adata_st,color='ssgate_cluster')\n",
    "sc.pl.spatial(adata_st,color='ssgate_cluster', spot_size = 1.5)"
   ],
   "metadata": {
    "collapsed": false
   },
   "id": "82db0b3d823d5b6e"
  },
  {
   "metadata": {},
   "cell_type": "code",
   "outputs": [],
   "execution_count": null,
   "source": [
    "# Statistics of differentially expressed genes based on clustering results\n",
    "adata_st.uns['log1p'] = {'base': None}\n",
    "sc.tl.rank_genes_groups(adata_st, groupby='ssgate_cluster')\n",
    "result = adata_st.uns['rank_genes_groups']\n",
    "celltype_list = adata_st.obs.celltype_SSMI_DGATE_leiden.cat.categories.to_list()\n",
    "df_all = pd.DataFrame({})\n",
    "\n",
    "for i in range(len(celltype_list)):\n",
    "    group = celltype_list[i]\n",
    "    highly_expressed_genes = result['names'][group][:100]  # Get the top 100 genes\n",
    "    confidence_scores = result['scores'][group][:100]  # Get the corresponding confidence\n",
    "    pval = result['pvals'][group][:100]\n",
    "    logfoldchange = result['logfoldchanges'][group][:100]\n",
    "    \n",
    "    # Merge arrays into a DataFrame\n",
    "    df = pd.DataFrame({'Group': str(group), 'Gene_name': highly_expressed_genes, 'Confidence_scores': confidence_scores, 'Pval': pval, 'logfoldchanges': logfoldchange})\n",
    "\n",
    "    # Set the index name for the DataFrame\n",
    "    df.index.name = 'Index'\n",
    "    print('Cell type : ', str(group))\n",
    "    # Output results\n",
    "    print(df)\n",
    "    df_all = pd.concat([df_all, df], ignore_index=True)\n",
    "# Result Output\n",
    "df_all.to_csv('SSGATE_100DEgene_SCS_MT.csv')"
   ],
   "id": "a6fdf884803eadea"
  },
  {
   "metadata": {},
   "cell_type": "code",
   "outputs": [],
   "execution_count": null,
   "source": [
    "# Performing PAGA-based pseudotime time analysis\n",
    "\n",
    "# Preprocessing and visualization\n",
    "sc.tl.draw_graph(adata_st, neighbors_key = 'SSGATE_neighbor')\n",
    "sc.pl.draw_graph(adata_st, color='ssgate_cluster', legend_loc='on data', save='Force-directed_graph.png')\n",
    "\n",
    "\n",
    "# Create a spatial image and save it as a 300 DPI PNG\n",
    "fig, ax = plt.subplots(figsize=(12, 8))\n",
    "# Adjust the font and trackball size of the PAGA graph\n",
    "sc.pl.paga(\n",
    "    adata_st, color='ssgate_cluster',\n",
    "    fontsize=30,  edge_width_scale = 3.0,       # 设置字体大小\n",
    "    node_size_scale=20, ax=ax, show=False)\n",
    "plt.savefig('paga_SCS_MT_SSGATE_leiden.pdf', dpi=300, format='PDF')"
   ],
   "id": "51c9013825a300cc"
  },
  {
   "metadata": {},
   "cell_type": "code",
   "outputs": [],
   "execution_count": null,
   "source": [
    "# Specifying pathways and gene lists\n",
    "nodes_path = ['5','1', '0','3','4','2']\n",
    "genes_of_interest = [\"Dntt\", \"Rag1\",\"Trbc1\",'H2-K1',\"Fcgbp\",\"Gpx3\"]\n",
    "\n",
    "\n",
    "# Try different root nodes\n",
    "# Combined with GO enrichment analysis, 5 is the original node of T cell development\n",
    "root_cells = ['5']  # Assume these are possible root nodes\n",
    "for root_cell in root_cells:\n",
    "    adata_st.uns['iroot'] = np.flatnonzero(adata_st.obs['ssgate_cluster'] == root_cell)[0]\n",
    "    sc.tl.dpt(adata_st)\n",
    "    sc.pl.draw_graph(adata_st, color=['ssgate_cluster', 'dpt_pseudotime'], legend_loc='on data', title=['', 'pseudotime'], frameon=True, save=f'_dpt_{root_cell}.png')\n",
    "    sc.pl.paga_path(adata_st, nodes=nodes_path, keys=genes_of_interest, save=f'_paga_path_{root_cell}.png')"
   ],
   "id": "1ff728aaaa3ee94c"
  }
 ],
 "metadata": {
  "kernelspec": {
   "display_name": "Python 3",
   "language": "python",
   "name": "python3"
  },
  "language_info": {
   "codemirror_mode": {
    "name": "ipython",
    "version": 2
   },
   "file_extension": ".py",
   "mimetype": "text/x-python",
   "name": "python",
   "nbconvert_exporter": "python",
   "pygments_lexer": "ipython2",
   "version": "2.7.6"
  }
 },
 "nbformat": 4,
 "nbformat_minor": 5
}
