{
 "cells": [
  {
   "cell_type": "code",
   "id": "initial_id",
   "metadata": {
    "collapsed": true,
    "jupyter": {
     "is_executing": true
    }
   },
   "source": [
    "import sys\n",
    "import os\n",
    "import SSGATE as ssgate\n",
    "import scanpy as sc\n",
    "\n",
    "import torch\n",
    "import matplotlib.pyplot as plt"
   ],
   "outputs": [],
   "execution_count": null
  },
  {
   "cell_type": "code",
   "execution_count": null,
   "outputs": [],
   "source": [
    "# This tutorial is used to illustrate the steps of multi-omics integration of the BMNC dataset.\n",
    "# Import transcriptome and proteome data in h5ad format\n",
    "adata_st = sc.read_h5ad('BMNC_RNA.h5ad')\n",
    "adata_sp = sc.read_h5ad('BMNC_ADT.h5ad')"
   ],
   "metadata": {
    "collapsed": false
   },
   "id": "8fc64094dd209e54"
  },
  {
   "cell_type": "code",
   "execution_count": null,
   "outputs": [],
   "source": [
    "# The above data is not filtered or standardized by default, \n",
    "# and is preprocessed using the preprocessing function of SSGATE.\n",
    "adata_st, adata_sp = ssgate.preprocess_cluster(adata_st, adata_sp, res_st = 0.1, res_sp = 0.05, show_fig = True, figsize = (6,3))"
   ],
   "metadata": {
    "collapsed": false
   },
   "id": "a87ad3e304f96a0b"
  },
  {
   "cell_type": "code",
   "execution_count": null,
   "outputs": [],
   "source": [
    "# Neighbor network construction, \n",
    "# network pruning, \n",
    "# and neighbor network statistics based on transcriptome data\n",
    "adata_st = ssgate.Cal_Nbrs_Net(adata_st, feat = \"X_pca\", k_cutoff = 15, model = \"KNN\")\n",
    "adata_st = ssgate.prune_net(adata_st)\n",
    "ssgate.Stats_Nbrs_Net(adata_st)"
   ],
   "metadata": {
    "collapsed": false
   },
   "id": "f89d0b644b450112"
  },
  {
   "cell_type": "code",
   "execution_count": null,
   "outputs": [],
   "source": [
    "# Proteomic data are processed similarly to transcriptomic data\n",
    "adata_sp = ssgate.Cal_Nbrs_Net(adata_sp, feat = \"X_pca\", k_cutoff = 15, model = \"KNN\")\n",
    "adata_sp = ssgate.prune_net(adata_sp)\n",
    "ssgate.Stats_Nbrs_Net(adata_sp)"
   ],
   "metadata": {
    "collapsed": false
   },
   "id": "e9e4e225b5ff98cf"
  },
  {
   "cell_type": "code",
   "execution_count": null,
   "outputs": [],
   "source": [
    "# After the nearest neighbor network is built, it is trained based on the above data, \n",
    "# and the integrated results obtained from the training are retained in the .obsm file of h5ad.\n",
    "adata_st, adata_sp = ssgate.train(adata_st, adata_sp, \n",
    "                                    hidden_dims1 = 128, \n",
    "                                    hidden_dims2 = 128, \n",
    "                                    out_dims = 30, \n",
    "                                    cluster_update_epoch = 50, \n",
    "                                    epochs_init = 50, \n",
    "                                    n_epochs=300, \n",
    "                                    save_reconstrction=False, \n",
    "                                    sigma = 0.1, \n",
    "                                    device = \"cuda:0\", \n",
    "                                    feat1 = \"PCA\",\n",
    "                                    key_added = 'ssgate_embed')"
   ],
   "metadata": {
    "collapsed": false
   },
   "id": "55e01eb9f0430c68"
  },
  {
   "cell_type": "code",
   "execution_count": null,
   "outputs": [],
   "source": [
    "# Calculate neighbors and construct UMAP graph based on integrated low-dimensional embedding\n",
    "sc.pp.neighbors(adata_st, use_rep=\"ssgate_embed\",key_added='SSGATE_neighbor')\n",
    "sc.tl.umap(adata_st,neighbors_key='SSGATE_neighbor')"
   ],
   "metadata": {
    "collapsed": false
   },
   "id": "b94c2e7e3d69078b"
  },
  {
   "cell_type": "code",
   "execution_count": null,
   "outputs": [],
   "source": [
    "# Leiden cluster statistics and drawing UMAP graph\n",
    "sc.tl.leiden(adata_st, resolution = 0.15, key_added = \"ssgate_cluster\")\n",
    "plt.rcParams[\"figure.figsize\"] = [3,3]\n",
    "sc.pl.umap(adata_st, color=[\"ssgate_cluster\"], title = \"SSGATE clusters\")"
   ],
   "metadata": {
    "collapsed": false
   },
   "id": "82db0b3d823d5b6e"
  }
 ],
 "metadata": {
  "kernelspec": {
   "display_name": "Python 3",
   "language": "python",
   "name": "python3"
  },
  "language_info": {
   "codemirror_mode": {
    "name": "ipython",
    "version": 2
   },
   "file_extension": ".py",
   "mimetype": "text/x-python",
   "name": "python",
   "nbconvert_exporter": "python",
   "pygments_lexer": "ipython2",
   "version": "2.7.6"
  }
 },
 "nbformat": 4,
 "nbformat_minor": 5
}
